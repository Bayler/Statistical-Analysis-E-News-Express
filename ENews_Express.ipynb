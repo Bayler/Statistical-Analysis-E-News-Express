{
 "cells": [
  {
   "cell_type": "markdown",
   "id": "6yDxo9u0d9Na",
   "metadata": {
    "id": "6yDxo9u0d9Na"
   },
   "source": [
    "# Project Business Statistics: E-news Express\n",
    "\n",
    "**Marks: 60**"
   ]
  },
  {
   "cell_type": "markdown",
   "id": "SrLd-ICEmPSD",
   "metadata": {
    "id": "SrLd-ICEmPSD"
   },
   "source": [
    "## Define Problem Statement and Objectives"
   ]
  },
  {
   "cell_type": "markdown",
   "id": "9Vt1PLLqmXNn",
   "metadata": {
    "id": "9Vt1PLLqmXNn"
   },
   "source": [
    "**Description**\n",
    "\n",
    "**Business Context**\n",
    "\n",
    "The advent of e-news, or electronic news, portals has offered us a great opportunity to quickly get updates on the day-to-day events occurring globally. The information on these portals is retrieved electronically from online databases, processed using a variety of software, and then transmitted to the users. There are multiple advantages of transmitting new electronically, like faster access to the content and the ability to utilize different technologies such as audio, graphics, video, and other interactive elements that are either not being used or aren’t common yet in traditional newspapers.\n",
    "\n",
    "E-news Express, an online news portal, aims to expand its business by acquiring new subscribers. With every visitor to the website taking certain actions based on their interest, the company plans to analyze these actions to understand user interests and determine how to drive better engagement. The executives at E-news Express are of the opinion that there has been a decline in new monthly subscribers compared to the past year because the current webpage is not designed well enough in terms of the outline & recommended content to keep customers engaged long enough to make a decision to subscribe.\n",
    "\n",
    "[Companies often analyze user responses to two variants of a product to decide which of the two variants is more effective. This experimental technique, known as A/B testing, is used to determine whether a new feature attracts users based on a chosen metric.]\n",
    "\n",
    "**Objective**\n",
    "\n",
    "The design team of the company has researched and created a new landing page that has a new outline & more relevant content shown compared to the old page. In order to test the effectiveness of the new landing page in gathering new subscribers, the Data Science team conducted an experiment by randomly selecting 100 users and dividing them equally into two groups. The existing landing page was served to the first group (control group) and the new landing page to the second group (treatment group). Data regarding the interaction of users in both groups with the two versions of the landing page was collected. Being a data scientist in E-news Express, you have been asked to explore the data and perform a statistical analysis (at a significance level of 5%) to determine the effectiveness of the new landing page in gathering new subscribers for the news portal by answering the following questions:\n",
    "\n",
    "\n",
    "\n",
    "1.   Do the users spend more time on the new landing page than on the existing landing page? \n",
    "2.   Is the conversion rate (the proportion of users who visit the landing page and get converted) for the new page greater than the conversion rate for the old page?\n",
    "3.   Does the converted status depend on the preferred language?\n",
    "4.   Is the time spent on the new page the same for the different language users?\n",
    "\n",
    "**Data Dictionary**\n",
    "\n",
    "The data contains information regarding the interaction of users in both groups with the two versions of the landing page.\n",
    "user_id - Unique user ID of the person visiting the website\n",
    "group - Whether the user belongs to the first group (control) or the second group (treatment)\n",
    "landing_page - Whether the landing page is new or old\n",
    "time_spent_on_the_page - Time (in minutes) spent by the user on the landing page\n",
    "converted - Whether the user gets converted to a subscriber of the news portal or not\n",
    "language_preferred - Language chosen by the user to view the landing page\n",
    "\n"
   ]
  },
  {
   "cell_type": "markdown",
   "id": "a6a3d218",
   "metadata": {
    "id": "a6a3d218"
   },
   "source": [
    "## Import all the necessary libraries"
   ]
  },
  {
   "cell_type": "code",
   "execution_count": 244,
   "id": "658c5dec",
   "metadata": {
    "executionInfo": {
     "elapsed": 2069,
     "status": "ok",
     "timestamp": 1651689871535,
     "user": {
      "displayName": "Padma Priya",
      "userId": "14146843222349571004"
     },
     "user_tz": 420
    },
    "id": "658c5dec"
   },
   "outputs": [],
   "source": [
    "# import libraries for data manipulation\n",
    "import numpy as np\n",
    "import pandas as pd\n",
    "\n",
    "# import libraries for data visualization\n",
    "from matplotlib import pyplot as plt\n",
    "import seaborn as sns"
   ]
  },
  {
   "cell_type": "markdown",
   "id": "6970dd99",
   "metadata": {
    "id": "6970dd99"
   },
   "source": [
    "## Reading the Data into a DataFrame"
   ]
  },
  {
   "cell_type": "code",
   "execution_count": 245,
   "id": "d3b95640",
   "metadata": {
    "colab": {
     "base_uri": "https://localhost:8080/"
    },
    "executionInfo": {
     "elapsed": 23055,
     "status": "ok",
     "timestamp": 1651689895790,
     "user": {
      "displayName": "Padma Priya",
      "userId": "14146843222349571004"
     },
     "user_tz": 420
    },
    "id": "d3b95640",
    "outputId": "6d74058b-4ae8-47f2-8088-885f63c49ef1"
   },
   "outputs": [],
   "source": [
    "# import libraries to connect to google\n",
    "# from google.colab import drive\n",
    "# drive.mount('/content/drive')\n",
    "# read the data\n",
    "data = pd.read_csv('abtest.csv')"
   ]
  },
  {
   "cell_type": "markdown",
   "id": "9d75cfa2",
   "metadata": {
    "id": "9d75cfa2"
   },
   "source": [
    "## Explore the dataset and extract insights using Exploratory Data Analysis"
   ]
  },
  {
   "cell_type": "markdown",
   "id": "27201534",
   "metadata": {
    "id": "27201534"
   },
   "source": [
    "- Data Overview\n",
    "  - Viewing the first and last few rows of the dataset\n",
    "  - Checking the shape of the dataset\n",
    "  - Getting the statistical summary for the variables\n",
    "- Check for missing values\n",
    "- Check for duplicates"
   ]
  },
  {
   "cell_type": "code",
   "execution_count": 246,
   "id": "wb9_ntVBDycD",
   "metadata": {
    "colab": {
     "base_uri": "https://localhost:8080/",
     "height": 419
    },
    "executionInfo": {
     "elapsed": 12,
     "status": "ok",
     "timestamp": 1651689895791,
     "user": {
      "displayName": "Padma Priya",
      "userId": "14146843222349571004"
     },
     "user_tz": 420
    },
    "id": "wb9_ntVBDycD",
    "outputId": "04e1e9d2-d07b-4a2e-a424-ba0aa50d16ee"
   },
   "outputs": [
    {
     "data": {
      "text/html": [
       "<div>\n",
       "<style scoped>\n",
       "    .dataframe tbody tr th:only-of-type {\n",
       "        vertical-align: middle;\n",
       "    }\n",
       "\n",
       "    .dataframe tbody tr th {\n",
       "        vertical-align: top;\n",
       "    }\n",
       "\n",
       "    .dataframe thead th {\n",
       "        text-align: right;\n",
       "    }\n",
       "</style>\n",
       "<table border=\"1\" class=\"dataframe\">\n",
       "  <thead>\n",
       "    <tr style=\"text-align: right;\">\n",
       "      <th></th>\n",
       "      <th>user_id</th>\n",
       "      <th>group</th>\n",
       "      <th>landing_page</th>\n",
       "      <th>time_spent_on_the_page</th>\n",
       "      <th>converted</th>\n",
       "      <th>language_preferred</th>\n",
       "    </tr>\n",
       "  </thead>\n",
       "  <tbody>\n",
       "    <tr>\n",
       "      <th>0</th>\n",
       "      <td>546592</td>\n",
       "      <td>control</td>\n",
       "      <td>old</td>\n",
       "      <td>3.48</td>\n",
       "      <td>no</td>\n",
       "      <td>Spanish</td>\n",
       "    </tr>\n",
       "    <tr>\n",
       "      <th>1</th>\n",
       "      <td>546468</td>\n",
       "      <td>treatment</td>\n",
       "      <td>new</td>\n",
       "      <td>7.13</td>\n",
       "      <td>yes</td>\n",
       "      <td>English</td>\n",
       "    </tr>\n",
       "    <tr>\n",
       "      <th>2</th>\n",
       "      <td>546462</td>\n",
       "      <td>treatment</td>\n",
       "      <td>new</td>\n",
       "      <td>4.40</td>\n",
       "      <td>no</td>\n",
       "      <td>Spanish</td>\n",
       "    </tr>\n",
       "    <tr>\n",
       "      <th>3</th>\n",
       "      <td>546567</td>\n",
       "      <td>control</td>\n",
       "      <td>old</td>\n",
       "      <td>3.02</td>\n",
       "      <td>no</td>\n",
       "      <td>French</td>\n",
       "    </tr>\n",
       "    <tr>\n",
       "      <th>4</th>\n",
       "      <td>546459</td>\n",
       "      <td>treatment</td>\n",
       "      <td>new</td>\n",
       "      <td>4.75</td>\n",
       "      <td>yes</td>\n",
       "      <td>Spanish</td>\n",
       "    </tr>\n",
       "    <tr>\n",
       "      <th>...</th>\n",
       "      <td>...</td>\n",
       "      <td>...</td>\n",
       "      <td>...</td>\n",
       "      <td>...</td>\n",
       "      <td>...</td>\n",
       "      <td>...</td>\n",
       "    </tr>\n",
       "    <tr>\n",
       "      <th>85</th>\n",
       "      <td>546564</td>\n",
       "      <td>control</td>\n",
       "      <td>old</td>\n",
       "      <td>0.91</td>\n",
       "      <td>no</td>\n",
       "      <td>French</td>\n",
       "    </tr>\n",
       "    <tr>\n",
       "      <th>86</th>\n",
       "      <td>546465</td>\n",
       "      <td>treatment</td>\n",
       "      <td>new</td>\n",
       "      <td>6.71</td>\n",
       "      <td>no</td>\n",
       "      <td>English</td>\n",
       "    </tr>\n",
       "    <tr>\n",
       "      <th>87</th>\n",
       "      <td>546480</td>\n",
       "      <td>treatment</td>\n",
       "      <td>new</td>\n",
       "      <td>3.68</td>\n",
       "      <td>no</td>\n",
       "      <td>French</td>\n",
       "    </tr>\n",
       "    <tr>\n",
       "      <th>88</th>\n",
       "      <td>546447</td>\n",
       "      <td>treatment</td>\n",
       "      <td>new</td>\n",
       "      <td>3.30</td>\n",
       "      <td>no</td>\n",
       "      <td>French</td>\n",
       "    </tr>\n",
       "    <tr>\n",
       "      <th>89</th>\n",
       "      <td>546561</td>\n",
       "      <td>control</td>\n",
       "      <td>old</td>\n",
       "      <td>6.04</td>\n",
       "      <td>yes</td>\n",
       "      <td>French</td>\n",
       "    </tr>\n",
       "  </tbody>\n",
       "</table>\n",
       "<p>90 rows × 6 columns</p>\n",
       "</div>"
      ],
      "text/plain": [
       "    user_id      group landing_page  time_spent_on_the_page converted  \\\n",
       "0    546592    control          old                    3.48        no   \n",
       "1    546468  treatment          new                    7.13       yes   \n",
       "2    546462  treatment          new                    4.40        no   \n",
       "3    546567    control          old                    3.02        no   \n",
       "4    546459  treatment          new                    4.75       yes   \n",
       "..      ...        ...          ...                     ...       ...   \n",
       "85   546564    control          old                    0.91        no   \n",
       "86   546465  treatment          new                    6.71        no   \n",
       "87   546480  treatment          new                    3.68        no   \n",
       "88   546447  treatment          new                    3.30        no   \n",
       "89   546561    control          old                    6.04       yes   \n",
       "\n",
       "   language_preferred  \n",
       "0             Spanish  \n",
       "1             English  \n",
       "2             Spanish  \n",
       "3              French  \n",
       "4             Spanish  \n",
       "..                ...  \n",
       "85             French  \n",
       "86            English  \n",
       "87             French  \n",
       "88             French  \n",
       "89             French  \n",
       "\n",
       "[90 rows x 6 columns]"
      ]
     },
     "execution_count": 246,
     "metadata": {},
     "output_type": "execute_result"
    }
   ],
   "source": [
    "# first and last 5 rows views\n",
    "data.head(-10)"
   ]
  },
  {
   "cell_type": "markdown",
   "id": "BmlzEH9hERYh",
   "metadata": {
    "id": "BmlzEH9hERYh"
   },
   "source": [
    "On a overview all the column values appears normal"
   ]
  },
  {
   "cell_type": "code",
   "execution_count": 247,
   "id": "tk7SWEFbD09v",
   "metadata": {
    "colab": {
     "base_uri": "https://localhost:8080/"
    },
    "executionInfo": {
     "elapsed": 436,
     "status": "ok",
     "timestamp": 1651689902566,
     "user": {
      "displayName": "Padma Priya",
      "userId": "14146843222349571004"
     },
     "user_tz": 420
    },
    "id": "tk7SWEFbD09v",
    "outputId": "48e6e55a-eb5d-48e6-8c44-5b0d1d8ace26"
   },
   "outputs": [
    {
     "data": {
      "text/plain": [
       "(100, 6)"
      ]
     },
     "execution_count": 247,
     "metadata": {},
     "output_type": "execute_result"
    }
   ],
   "source": [
    "# shape of the data view.\n",
    "data.shape"
   ]
  },
  {
   "cell_type": "markdown",
   "id": "pCJLPiXZELcz",
   "metadata": {
    "id": "pCJLPiXZELcz"
   },
   "source": [
    "The data set has 100 rows and 6 columns"
   ]
  },
  {
   "cell_type": "code",
   "execution_count": 248,
   "id": "KOAfZze4GOGi",
   "metadata": {
    "colab": {
     "base_uri": "https://localhost:8080/"
    },
    "executionInfo": {
     "elapsed": 416,
     "status": "ok",
     "timestamp": 1651689905100,
     "user": {
      "displayName": "Padma Priya",
      "userId": "14146843222349571004"
     },
     "user_tz": 420
    },
    "id": "KOAfZze4GOGi",
    "outputId": "897a90b6-9cc4-4c02-b6e4-7e88d2c96b1a"
   },
   "outputs": [
    {
     "name": "stdout",
     "output_type": "stream",
     "text": [
      "<class 'pandas.core.frame.DataFrame'>\n",
      "RangeIndex: 100 entries, 0 to 99\n",
      "Data columns (total 6 columns):\n",
      " #   Column                  Non-Null Count  Dtype  \n",
      "---  ------                  --------------  -----  \n",
      " 0   user_id                 100 non-null    int64  \n",
      " 1   group                   100 non-null    object \n",
      " 2   landing_page            100 non-null    object \n",
      " 3   time_spent_on_the_page  100 non-null    float64\n",
      " 4   converted               100 non-null    object \n",
      " 5   language_preferred      100 non-null    object \n",
      "dtypes: float64(1), int64(1), object(4)\n",
      "memory usage: 4.8+ KB\n"
     ]
    }
   ],
   "source": [
    "# here is the DataFrame summary \n",
    "data.info()"
   ]
  },
  {
   "cell_type": "markdown",
   "id": "fhpC0WJNGTZk",
   "metadata": {
    "id": "fhpC0WJNGTZk"
   },
   "source": [
    "1. All column has 100 non-null values which is same as number of rows, hence there are no missing values\n",
    "2. group, landing_page, converter, language_preferred has string values so the data type is object it is the same as expected, so no treatment is required\n",
    "3. user_id is a numerical column(int64) indicating the id of the user\n",
    "4. time_spent_on_the_page is in float which is same as expected."
   ]
  },
  {
   "cell_type": "code",
   "execution_count": 249,
   "id": "W6pecSwLD3Fr",
   "metadata": {
    "colab": {
     "base_uri": "https://localhost:8080/",
     "height": 297
    },
    "executionInfo": {
     "elapsed": 429,
     "status": "ok",
     "timestamp": 1651689908598,
     "user": {
      "displayName": "Padma Priya",
      "userId": "14146843222349571004"
     },
     "user_tz": 420
    },
    "id": "W6pecSwLD3Fr",
    "outputId": "19c4ace4-f124-4bfe-98df-95855371245d"
   },
   "outputs": [
    {
     "data": {
      "text/html": [
       "<div>\n",
       "<style scoped>\n",
       "    .dataframe tbody tr th:only-of-type {\n",
       "        vertical-align: middle;\n",
       "    }\n",
       "\n",
       "    .dataframe tbody tr th {\n",
       "        vertical-align: top;\n",
       "    }\n",
       "\n",
       "    .dataframe thead th {\n",
       "        text-align: right;\n",
       "    }\n",
       "</style>\n",
       "<table border=\"1\" class=\"dataframe\">\n",
       "  <thead>\n",
       "    <tr style=\"text-align: right;\">\n",
       "      <th></th>\n",
       "      <th>user_id</th>\n",
       "      <th>time_spent_on_the_page</th>\n",
       "    </tr>\n",
       "  </thead>\n",
       "  <tbody>\n",
       "    <tr>\n",
       "      <th>count</th>\n",
       "      <td>100.000000</td>\n",
       "      <td>100.000000</td>\n",
       "    </tr>\n",
       "    <tr>\n",
       "      <th>mean</th>\n",
       "      <td>546517.000000</td>\n",
       "      <td>5.377800</td>\n",
       "    </tr>\n",
       "    <tr>\n",
       "      <th>std</th>\n",
       "      <td>52.295779</td>\n",
       "      <td>2.378166</td>\n",
       "    </tr>\n",
       "    <tr>\n",
       "      <th>min</th>\n",
       "      <td>546443.000000</td>\n",
       "      <td>0.190000</td>\n",
       "    </tr>\n",
       "    <tr>\n",
       "      <th>25%</th>\n",
       "      <td>546467.750000</td>\n",
       "      <td>3.880000</td>\n",
       "    </tr>\n",
       "    <tr>\n",
       "      <th>50%</th>\n",
       "      <td>546492.500000</td>\n",
       "      <td>5.415000</td>\n",
       "    </tr>\n",
       "    <tr>\n",
       "      <th>75%</th>\n",
       "      <td>546567.250000</td>\n",
       "      <td>7.022500</td>\n",
       "    </tr>\n",
       "    <tr>\n",
       "      <th>max</th>\n",
       "      <td>546592.000000</td>\n",
       "      <td>10.710000</td>\n",
       "    </tr>\n",
       "  </tbody>\n",
       "</table>\n",
       "</div>"
      ],
      "text/plain": [
       "             user_id  time_spent_on_the_page\n",
       "count     100.000000              100.000000\n",
       "mean   546517.000000                5.377800\n",
       "std        52.295779                2.378166\n",
       "min    546443.000000                0.190000\n",
       "25%    546467.750000                3.880000\n",
       "50%    546492.500000                5.415000\n",
       "75%    546567.250000                7.022500\n",
       "max    546592.000000               10.710000"
      ]
     },
     "execution_count": 249,
     "metadata": {},
     "output_type": "execute_result"
    }
   ],
   "source": [
    "# statistical summary of the numerical columns of data view \n",
    "data.describe()"
   ]
  },
  {
   "cell_type": "markdown",
   "id": "7XT-TK4SEnmI",
   "metadata": {
    "id": "7XT-TK4SEnmI"
   },
   "source": [
    "1. Only user_id and time_spent_on_the_page are numerical column.\n",
    "2. user_id is just a unique id representing any individual user, this can be ignored.\n",
    "3. time_spent_on_the_page is a valuable numerical insight\n",
    "  1. There are 100 non null time_spent_on_the_page values\n",
    "  2. sample_mean time_spent is 5.37\n",
    "  3. sample standard deviation is 2.37\n",
    "  4. minimum time spent on the page is 0.19\n",
    "  5. maximum time spent on the page is 10.71\n",
    "  6. 25%, 50%, 75% values are 3.88, 5,42, 7.02 respectively.\n"
   ]
  },
  {
   "cell_type": "code",
   "execution_count": 250,
   "id": "yTxlZgBuIr2H",
   "metadata": {
    "colab": {
     "base_uri": "https://localhost:8080/"
    },
    "executionInfo": {
     "elapsed": 410,
     "status": "ok",
     "timestamp": 1651689913084,
     "user": {
      "displayName": "Padma Priya",
      "userId": "14146843222349571004"
     },
     "user_tz": 420
    },
    "id": "yTxlZgBuIr2H",
    "outputId": "73d8b5fc-24fc-4885-9eb5-bf75689ac4e1"
   },
   "outputs": [
    {
     "data": {
      "text/plain": [
       "100"
      ]
     },
     "execution_count": 250,
     "metadata": {},
     "output_type": "execute_result"
    }
   ],
   "source": [
    "# checking number of unique user_ids to see if there are any duplicates\n",
    "len(data['user_id'].unique())"
   ]
  },
  {
   "cell_type": "markdown",
   "id": "-g5m8oA1JAaj",
   "metadata": {
    "id": "-g5m8oA1JAaj"
   },
   "source": [
    "There are no duplicate user_id found in this data"
   ]
  },
  {
   "cell_type": "code",
   "execution_count": 251,
   "id": "Uo-hEdI8HiXL",
   "metadata": {
    "colab": {
     "base_uri": "https://localhost:8080/"
    },
    "executionInfo": {
     "elapsed": 5,
     "status": "ok",
     "timestamp": 1651689915252,
     "user": {
      "displayName": "Padma Priya",
      "userId": "14146843222349571004"
     },
     "user_tz": 420
    },
    "id": "Uo-hEdI8HiXL",
    "outputId": "7484a56c-697e-4924-a09b-1c78606482cf"
   },
   "outputs": [
    {
     "data": {
      "text/plain": [
       "control      50\n",
       "treatment    50\n",
       "Name: group, dtype: int64"
      ]
     },
     "execution_count": 251,
     "metadata": {},
     "output_type": "execute_result"
    }
   ],
   "source": [
    "# view of the statistical summary of group\n",
    "data['group'].value_counts()"
   ]
  },
  {
   "cell_type": "markdown",
   "id": "oPED23iIIa_0",
   "metadata": {
    "id": "oPED23iIIa_0"
   },
   "source": [
    "There are two types of groups\n",
    "1. control - 50 users are of group control\n",
    "2. treatment - 50 tratments are of group control"
   ]
  },
  {
   "cell_type": "code",
   "execution_count": 252,
   "id": "fbe9de6f",
   "metadata": {},
   "outputs": [
    {
     "data": {
      "text/plain": [
       "old    50\n",
       "new    50\n",
       "Name: landing_page, dtype: int64"
      ]
     },
     "execution_count": 252,
     "metadata": {},
     "output_type": "execute_result"
    }
   ],
   "source": [
    "# view of the statistical summary of landing_page\n",
    "data['landing_page'].value_counts()"
   ]
  },
  {
   "cell_type": "markdown",
   "id": "888177d9",
   "metadata": {},
   "source": [
    "There are two types of landing_page entries\n",
    "1. new - 50 users are using new landing page\n",
    "2. old - 50 users are using old landing page"
   ]
  },
  {
   "cell_type": "code",
   "execution_count": 253,
   "id": "bd9f5a00",
   "metadata": {},
   "outputs": [
    {
     "data": {
      "text/plain": [
       "yes    54\n",
       "no     46\n",
       "Name: converted, dtype: int64"
      ]
     },
     "execution_count": 253,
     "metadata": {},
     "output_type": "execute_result"
    }
   ],
   "source": [
    "# view of the statistical summary of converted\n",
    "data['converted'].value_counts()"
   ]
  },
  {
   "cell_type": "markdown",
   "id": "9ddcec89",
   "metadata": {},
   "source": [
    "There are two types of converted entries\n",
    "1. yes - 54 users are using new landing page\n",
    "2. new - 46 users are using old landing page"
   ]
  },
  {
   "cell_type": "code",
   "execution_count": 254,
   "id": "a34f4b07",
   "metadata": {
    "colab": {
     "base_uri": "https://localhost:8080/"
    },
    "executionInfo": {
     "elapsed": 408,
     "status": "ok",
     "timestamp": 1651689919228,
     "user": {
      "displayName": "Padma Priya",
      "userId": "14146843222349571004"
     },
     "user_tz": 420
    },
    "id": "J4H2s-pVJIUA",
    "outputId": "6efd0db3-f1ea-470e-dd32-adc60cab90e8"
   },
   "outputs": [
    {
     "data": {
      "text/plain": [
       "Spanish    34\n",
       "French     34\n",
       "English    32\n",
       "Name: language_preferred, dtype: int64"
      ]
     },
     "execution_count": 254,
     "metadata": {},
     "output_type": "execute_result"
    }
   ],
   "source": [
    "# view of the statistical summary of language_preferred\n",
    "data['language_preferred'].value_counts()"
   ]
  },
  {
   "cell_type": "markdown",
   "id": "QDgNPAxpJYGv",
   "metadata": {
    "id": "QDgNPAxpJYGv"
   },
   "source": [
    "Spanish, French and English are preferred languages of the cutomers of which 34 customers prefer spanish, 34 prefer french and 32 prefer english.\n"
   ]
  },
  {
   "cell_type": "markdown",
   "id": "sB0B0CXzLPKb",
   "metadata": {
    "id": "sB0B0CXzLPKb"
   },
   "source": [
    "**Considering concise summary and statistical summary of data, We can conclude that there is no missing data found**"
   ]
  },
  {
   "cell_type": "code",
   "execution_count": 255,
   "id": "3JFgCXc0LyOH",
   "metadata": {
    "colab": {
     "base_uri": "https://localhost:8080/",
     "height": 49
    },
    "executionInfo": {
     "elapsed": 415,
     "status": "ok",
     "timestamp": 1651689921689,
     "user": {
      "displayName": "Padma Priya",
      "userId": "14146843222349571004"
     },
     "user_tz": 420
    },
    "id": "3JFgCXc0LyOH",
    "outputId": "631dc4d4-05f3-4c7c-b75c-7f65fea2b7cf"
   },
   "outputs": [
    {
     "data": {
      "text/html": [
       "<div>\n",
       "<style scoped>\n",
       "    .dataframe tbody tr th:only-of-type {\n",
       "        vertical-align: middle;\n",
       "    }\n",
       "\n",
       "    .dataframe tbody tr th {\n",
       "        vertical-align: top;\n",
       "    }\n",
       "\n",
       "    .dataframe thead th {\n",
       "        text-align: right;\n",
       "    }\n",
       "</style>\n",
       "<table border=\"1\" class=\"dataframe\">\n",
       "  <thead>\n",
       "    <tr style=\"text-align: right;\">\n",
       "      <th></th>\n",
       "      <th>user_id</th>\n",
       "      <th>group</th>\n",
       "      <th>landing_page</th>\n",
       "      <th>time_spent_on_the_page</th>\n",
       "      <th>converted</th>\n",
       "      <th>language_preferred</th>\n",
       "    </tr>\n",
       "  </thead>\n",
       "  <tbody>\n",
       "  </tbody>\n",
       "</table>\n",
       "</div>"
      ],
      "text/plain": [
       "Empty DataFrame\n",
       "Columns: [user_id, group, landing_page, time_spent_on_the_page, converted, language_preferred]\n",
       "Index: []"
      ]
     },
     "execution_count": 255,
     "metadata": {},
     "output_type": "execute_result"
    }
   ],
   "source": [
    "# checking for duplicates with user_id\n",
    "bool_series = data[\"user_id\"].duplicated()\n",
    "data[bool_series]"
   ]
  },
  {
   "cell_type": "markdown",
   "id": "T2xHXx6xNPn6",
   "metadata": {
    "id": "T2xHXx6xNPn6"
   },
   "source": [
    "Since the duplicate bool_series is empty, There are no duplicated values in the data set"
   ]
  },
  {
   "cell_type": "markdown",
   "id": "68f3b2c9",
   "metadata": {
    "id": "68f3b2c9"
   },
   "source": [
    "### Univariate Analysis"
   ]
  },
  {
   "cell_type": "markdown",
   "id": "yQFThVpbYsPt",
   "metadata": {
    "id": "yQFThVpbYsPt"
   },
   "source": [
    "**Time spent on the page**"
   ]
  },
  {
   "cell_type": "code",
   "execution_count": 256,
   "id": "1932d0f3",
   "metadata": {
    "colab": {
     "base_uri": "https://localhost:8080/",
     "height": 543
    },
    "executionInfo": {
     "elapsed": 417,
     "status": "ok",
     "timestamp": 1651689990196,
     "user": {
      "displayName": "Padma Priya",
      "userId": "14146843222349571004"
     },
     "user_tz": 420
    },
    "id": "1932d0f3",
    "outputId": "364fe543-a908-4807-db05-b6c4168bd863"
   },
   "outputs": [
    {
     "data": {
      "image/png": "[encoded data removed]",
      "text/plain": [
       "<Figure size 720x324 with 1 Axes>"
      ]
     },
     "metadata": {
      "needs_background": "light"
     },
     "output_type": "display_data"
    },
    {
     "data": {
      "image/png": "[encoded data removed]",
      "text/plain": [
       "<Figure size 720x324 with 1 Axes>"
      ]
     },
     "metadata": {
      "needs_background": "light"
     },
     "output_type": "display_data"
    }
   ],
   "source": [
    "sns.histplot(data=data,x='time_spent_on_the_page',kde=True)\n",
    "plt.show()\n",
    "sns.boxplot(data=data,x='time_spent_on_the_page')\n",
    "plt.show()"
   ]
  },
  {
   "cell_type": "markdown",
   "id": "WWZPwKKiZXxG",
   "metadata": {
    "id": "WWZPwKKiZXxG"
   },
   "source": [
    "Observations:\n",
    "\n",
    "```\n",
    "Looking at the histplot the distribution seems to be a normal distibution\n",
    "From boxplot we can infer there are no outliers\n",
    "```\n",
    "\n",
    "\n"
   ]
  },
  {
   "cell_type": "markdown",
   "id": "irLiaRK-3BCW",
   "metadata": {
    "id": "irLiaRK-3BCW"
   },
   "source": [
    "**Group**"
   ]
  },
  {
   "cell_type": "code",
   "execution_count": 257,
   "id": "CRLvYc8q3Ey9",
   "metadata": {
    "colab": {
     "base_uri": "https://localhost:8080/",
     "height": 330
    },
    "executionInfo": {
     "elapsed": 367,
     "status": "ok",
     "timestamp": 1651698122367,
     "user": {
      "displayName": "Padma Priya",
      "userId": "14146843222349571004"
     },
     "user_tz": 420
    },
    "id": "CRLvYc8q3Ey9",
    "outputId": "c0cfd268-e1ab-4c2a-9c5c-788ae00974a5"
   },
   "outputs": [
    {
     "name": "stdout",
     "output_type": "stream",
     "text": [
      "control      50\n",
      "treatment    50\n",
      "Name: group, dtype: int64\n"
     ]
    },
    {
     "data": {
      "image/png": "[encoded data removed]",
      "text/plain": [
       "<Figure size 720x324 with 1 Axes>"
      ]
     },
     "metadata": {
      "needs_background": "light"
     },
     "output_type": "display_data"
    }
   ],
   "source": [
    "print(data['group'].value_counts())\n",
    "sns.countplot(data=data,x='group')\n",
    "plt.show()"
   ]
  },
  {
   "cell_type": "markdown",
   "id": "fxulmyPp3OmV",
   "metadata": {
    "id": "fxulmyPp3OmV"
   },
   "source": [
    "Observations:\n",
    "\n",
    "\n",
    "```\n",
    "Control and Treament has almost equal number of users \n",
    "```\n"
   ]
  },
  {
   "cell_type": "markdown",
   "id": "DYe9lYAL3reO",
   "metadata": {
    "id": "DYe9lYAL3reO"
   },
   "source": [
    "**Landing page**"
   ]
  },
  {
   "cell_type": "code",
   "execution_count": 258,
   "id": "W6uqXAMK3qj8",
   "metadata": {
    "colab": {
     "base_uri": "https://localhost:8080/",
     "height": 331
    },
    "executionInfo": {
     "elapsed": 315,
     "status": "ok",
     "timestamp": 1651698103727,
     "user": {
      "displayName": "Padma Priya",
      "userId": "14146843222349571004"
     },
     "user_tz": 420
    },
    "id": "W6uqXAMK3qj8",
    "outputId": "b0f80e9b-a39b-4b41-bc4f-15747b815cbd"
   },
   "outputs": [
    {
     "name": "stdout",
     "output_type": "stream",
     "text": [
      "old    50\n",
      "new    50\n",
      "Name: landing_page, dtype: int64\n"
     ]
    },
    {
     "data": {
      "image/png": "[encoded data removed]",
      "text/plain": [
       "<Figure size 720x324 with 1 Axes>"
      ]
     },
     "metadata": {
      "needs_background": "light"
     },
     "output_type": "display_data"
    }
   ],
   "source": [
    "print(data['landing_page'].value_counts())\n",
    "sns.countplot(data=data,x='landing_page')\n",
    "plt.show()"
   ]
  },
  {
   "cell_type": "markdown",
   "id": "MmFkTBFe4W08",
   "metadata": {
    "id": "MmFkTBFe4W08"
   },
   "source": [
    "Observations:\n",
    "\n",
    "\n",
    "```\n",
    "old landing page  and new landing page has almost equal number of users \n",
    "```\n",
    "\n"
   ]
  },
  {
   "cell_type": "markdown",
   "id": "Qewzqnn14oNj",
   "metadata": {
    "id": "Qewzqnn14oNj"
   },
   "source": [
    "**Converted**"
   ]
  },
  {
   "cell_type": "code",
   "execution_count": 259,
   "id": "AcLq_lsc4qH2",
   "metadata": {
    "colab": {
     "base_uri": "https://localhost:8080/",
     "height": 330
    },
    "executionInfo": {
     "elapsed": 755,
     "status": "ok",
     "timestamp": 1651698267779,
     "user": {
      "displayName": "Padma Priya",
      "userId": "14146843222349571004"
     },
     "user_tz": 420
    },
    "id": "AcLq_lsc4qH2",
    "outputId": "2699f5a8-9cbb-454b-f497-2739dfaf1e5d"
   },
   "outputs": [
    {
     "name": "stdout",
     "output_type": "stream",
     "text": [
      "yes    54\n",
      "no     46\n",
      "Name: converted, dtype: int64\n"
     ]
    },
    {
     "data": {
      "image/png": "[encoded data removed]",
      "text/plain": [
       "<Figure size 720x324 with 1 Axes>"
      ]
     },
     "metadata": {
      "needs_background": "light"
     },
     "output_type": "display_data"
    }
   ],
   "source": [
    "print(data['converted'].value_counts())\n",
    "sns.countplot(data=data,x='converted')\n",
    "plt.show()"
   ]
  },
  {
   "cell_type": "markdown",
   "id": "a26UeCyq5AvP",
   "metadata": {
    "id": "a26UeCyq5AvP"
   },
   "source": [
    "Observations:\n",
    "\n",
    "\n",
    "\n",
    "```\n",
    "People who have converted to subscription is more than who have not.\n",
    "```\n",
    "\n"
   ]
  },
  {
   "cell_type": "markdown",
   "id": "qwRIzlAV5S97",
   "metadata": {
    "id": "qwRIzlAV5S97"
   },
   "source": [
    "**Language preferred**"
   ]
  },
  {
   "cell_type": "code",
   "execution_count": 260,
   "id": "RHiW0dKM5ZRj",
   "metadata": {
    "colab": {
     "base_uri": "https://localhost:8080/",
     "height": 348
    },
    "executionInfo": {
     "elapsed": 742,
     "status": "ok",
     "timestamp": 1651698443191,
     "user": {
      "displayName": "Padma Priya",
      "userId": "14146843222349571004"
     },
     "user_tz": 420
    },
    "id": "RHiW0dKM5ZRj",
    "outputId": "3018a87e-de44-49df-c499-46008cdaf2e6"
   },
   "outputs": [
    {
     "name": "stdout",
     "output_type": "stream",
     "text": [
      "Spanish    34\n",
      "French     34\n",
      "English    32\n",
      "Name: language_preferred, dtype: int64\n"
     ]
    },
    {
     "data": {
      "image/png": "[encoded data removed]",
      "text/plain": [
       "<Figure size 720x324 with 1 Axes>"
      ]
     },
     "metadata": {
      "needs_background": "light"
     },
     "output_type": "display_data"
    }
   ],
   "source": [
    "print(data['language_preferred'].value_counts())\n",
    "sns.countplot(data=data,x='language_preferred')\n",
    "plt.show()"
   ]
  },
  {
   "cell_type": "markdown",
   "id": "EwW9-H9L54VU",
   "metadata": {
    "id": "EwW9-H9L54VU"
   },
   "source": [
    "Observations:\n",
    "\n",
    "```\n",
    "Spanish, English and French has almost equal amount of users.\n",
    "English preferred users are little less compare to other two.\n",
    "```\n"
   ]
  },
  {
   "cell_type": "markdown",
   "id": "fad2de2f",
   "metadata": {
    "id": "fad2de2f"
   },
   "source": [
    "### Bivariate Analysis"
   ]
  },
  {
   "cell_type": "markdown",
   "id": "o-Ox11Tm7IZA",
   "metadata": {
    "id": "o-Ox11Tm7IZA"
   },
   "source": [
    "### **Landing page vs Time spent on the page**"
   ]
  },
  {
   "cell_type": "code",
   "execution_count": 261,
   "id": "58e9a1d0",
   "metadata": {
    "colab": {
     "base_uri": "https://localhost:8080/",
     "height": 389
    },
    "executionInfo": {
     "elapsed": 835,
     "status": "ok",
     "timestamp": 1651698884749,
     "user": {
      "displayName": "Padma Priya",
      "userId": "14146843222349571004"
     },
     "user_tz": 420
    },
    "id": "58e9a1d0",
    "outputId": "b6068671-0bbf-4c15-a299-8cb638ad0632"
   },
   "outputs": [
    {
     "data": {
      "image/png": "[encoded data removed]",
      "text/plain": [
       "<Figure size 720x432 with 1 Axes>"
      ]
     },
     "metadata": {
      "needs_background": "light"
     },
     "output_type": "display_data"
    }
   ],
   "source": [
    "plt.figure(figsize=(10,6))\n",
    "sns.boxplot(data=data,x='landing_page',y='time_spent_on_the_page', hue='language_preferred')\n",
    "plt.show()"
   ]
  },
  {
   "cell_type": "markdown",
   "id": "55b80bd0",
   "metadata": {},
   "source": [
    "Observation:\n",
    "    \n",
    "    The time spent by the new page users are more than time spend by old page users. \n",
    "    There is a large mean_time_spent on page difference between old english page and new english page users."
   ]
  },
  {
   "cell_type": "markdown",
   "id": "SSoUHDppkCMF",
   "metadata": {
    "id": "SSoUHDppkCMF"
   },
   "source": [
    "### **Conversion status vs Time spent on the page**"
   ]
  },
  {
   "cell_type": "code",
   "execution_count": 262,
   "id": "_AEueDUkkCez",
   "metadata": {
    "colab": {
     "base_uri": "https://localhost:8080/",
     "height": 551
    },
    "executionInfo": {
     "elapsed": 748,
     "status": "ok",
     "timestamp": 1651710047731,
     "user": {
      "displayName": "Padma Priya",
      "userId": "14146843222349571004"
     },
     "user_tz": 420
    },
    "id": "_AEueDUkkCez",
    "outputId": "79c34807-0489-41d5-c047-f050ffe35b4e"
   },
   "outputs": [
    {
     "data": {
      "image/png": "[encoded data removed]",
      "text/plain": [
       "<Figure size 648x648 with 1 Axes>"
      ]
     },
     "metadata": {
      "needs_background": "light"
     },
     "output_type": "display_data"
    }
   ],
   "source": [
    "plt.figure(figsize=(9, 9))\n",
    "sns.boxplot(data = data, x = 'converted', y = 'time_spent_on_the_page')\n",
    "plt.show()"
   ]
  },
  {
   "cell_type": "markdown",
   "id": "5c026692",
   "metadata": {},
   "source": [
    "Observation:\n",
    "\n",
    "People who have converted spend more time on the page."
   ]
  },
  {
   "cell_type": "markdown",
   "id": "V9lZD3I6kCrB",
   "metadata": {
    "id": "V9lZD3I6kCrB"
   },
   "source": [
    "Language preferred vs Time spent on the page"
   ]
  },
  {
   "cell_type": "code",
   "execution_count": 263,
   "id": "OgcLvHgqkC3A",
   "metadata": {
    "colab": {
     "base_uri": "https://localhost:8080/",
     "height": 552
    },
    "executionInfo": {
     "elapsed": 389,
     "status": "ok",
     "timestamp": 1651710094094,
     "user": {
      "displayName": "Padma Priya",
      "userId": "14146843222349571004"
     },
     "user_tz": 420
    },
    "id": "OgcLvHgqkC3A",
    "outputId": "8963cbd9-dbe3-496e-d033-5186c0cc5e45"
   },
   "outputs": [
    {
     "data": {
      "image/png": "[encoded data removed]",
      "text/plain": [
       "<Figure size 648x648 with 1 Axes>"
      ]
     },
     "metadata": {
      "needs_background": "light"
     },
     "output_type": "display_data"
    }
   ],
   "source": [
    "plt.figure(figsize=(9, 9))\n",
    "sns.boxplot(data = data, x = 'language_preferred', y = 'time_spent_on_the_page')\n",
    "plt.show()"
   ]
  },
  {
   "cell_type": "markdown",
   "id": "be606964",
   "metadata": {},
   "source": [
    "Observation:\n",
    "    \n",
    "1. Mean time spent on the page is almost same for all three languages\n",
    "    "
   ]
  },
  {
   "cell_type": "markdown",
   "id": "96e48b9b",
   "metadata": {},
   "source": [
    "### **Converted count for each language preferred**"
   ]
  },
  {
   "cell_type": "code",
   "execution_count": 264,
   "id": "73075a33",
   "metadata": {
    "scrolled": true
   },
   "outputs": [
    {
     "data": {
      "image/png": "[encoded data removed]",
      "text/plain": [
       "<Figure size 720x324 with 2 Axes>"
      ]
     },
     "metadata": {
      "needs_background": "light"
     },
     "output_type": "display_data"
    }
   ],
   "source": [
    "plt.rcParams[\"figure.figsize\"] = [10.00, 4.50]\n",
    "plt.rcParams[\"figure.autolayout\"] = True\n",
    "f, axes = plt.subplots(1, 2)\n",
    "sns.countplot(data = data.loc[data['landing_page']=='old'], x = 'converted', hue='language_preferred', ax=axes[0])\n",
    "axes[0].set_title('Conversion count for old page')\n",
    "sns.countplot(data = data.loc[data['landing_page']=='new'], x = 'converted', hue='language_preferred', ax=axes[1])\n",
    "axes[1].set_title('Conversion count for new page')\n",
    "plt.show()"
   ]
  },
  {
   "cell_type": "markdown",
   "id": "7716aadb",
   "metadata": {},
   "source": [
    "Old Page:\n",
    "\n",
    "1. Spanish users => users who are converted is less than who have not\n",
    "2. French users => users who are converted is very less than who have not\n",
    "3. English users => users who are converted is more than who have not\n",
    "\n",
    "New Page:\n",
    "\n",
    "1. Spanish users => users who are converted is more than who have not\n",
    "2. French users => users who are converted is more than who have not\n",
    "3. English users => users who are converted is more than who have not\n",
    "\n",
    "Conversion rate of Spanish users is significantly more in new page\n"
   ]
  },
  {
   "cell_type": "markdown",
   "id": "27906576",
   "metadata": {
    "id": "27906576"
   },
   "source": [
    "## 1. Do the users spend more time on the new landing page than the existing landing page?"
   ]
  },
  {
   "cell_type": "markdown",
   "id": "e5fdf0c8",
   "metadata": {
    "id": "e5fdf0c8"
   },
   "source": [
    "### Perform Visual Analysis"
   ]
  },
  {
   "cell_type": "code",
   "execution_count": 265,
   "id": "6eZJa41eg21n",
   "metadata": {
    "colab": {
     "base_uri": "https://localhost:8080/",
     "height": 389
    },
    "executionInfo": {
     "elapsed": 420,
     "status": "ok",
     "timestamp": 1651710358699,
     "user": {
      "displayName": "Padma Priya",
      "userId": "14146843222349571004"
     },
     "user_tz": 420
    },
    "id": "6eZJa41eg21n",
    "outputId": "16baccec-6d58-49ab-85e4-ac7c7f7f0b30"
   },
   "outputs": [
    {
     "data": {
      "image/png": "[encoded data removed]",
      "text/plain": [
       "<Figure size 576x432 with 1 Axes>"
      ]
     },
     "metadata": {
      "needs_background": "light"
     },
     "output_type": "display_data"
    }
   ],
   "source": [
    "plt.figure(figsize=(8,6))\n",
    "sns.boxplot(x = 'landing_page', y = 'time_spent_on_the_page', data = data)\n",
    "plt.show()"
   ]
  },
  {
   "cell_type": "markdown",
   "id": "df6dc403",
   "metadata": {},
   "source": [
    "As per graph, we can conclude that new page mean time spent is greater than old page"
   ]
  },
  {
   "cell_type": "markdown",
   "id": "56b3dafd",
   "metadata": {
    "id": "56b3dafd"
   },
   "source": [
    "### Step 1: Define the null and alternate hypotheses"
   ]
  },
  {
   "cell_type": "markdown",
   "id": "d2ac77ef",
   "metadata": {
    "id": "d2ac77ef"
   },
   "source": [
    "Let $\\mu_1, \\mu_2$ be the mean time spent by user on the landing page of new and old respectively\n",
    "\n",
    "We want to test whether the mean time spent by user on new page is > mean time spent by the user on old page\n",
    "\n",
    "We will test the null hypothesis\n",
    "\n",
    ">$H_0:\\mu_1<=\\mu_2$ (mean_time_spent on new page is <= mean_time_spent on old page)\n",
    "\n",
    "against the alternate hypothesis\n",
    "\n",
    ">$H_a:\\mu_1>\\mu_2$ (mean_time_spent on new page is > mean_time_spent on old page)"
   ]
  },
  {
   "cell_type": "markdown",
   "id": "c7ee4907",
   "metadata": {
    "id": "c7ee4907"
   },
   "source": [
    "### Step 2: Select Appropriate test"
   ]
  },
  {
   "cell_type": "markdown",
   "id": "2c183cd7",
   "metadata": {
    "id": "2c183cd7"
   },
   "source": [
    "Two Independent Sample T-test for Equality of Means"
   ]
  },
  {
   "cell_type": "markdown",
   "id": "3f58c9a7",
   "metadata": {
    "id": "3f58c9a7"
   },
   "source": [
    "### Step 3: Decide the significance level"
   ]
  },
  {
   "cell_type": "markdown",
   "id": "92d7d7ee",
   "metadata": {
    "id": "92d7d7ee"
   },
   "source": [
    "$\\alpha = 0.05$"
   ]
  },
  {
   "cell_type": "markdown",
   "id": "5fed2eac",
   "metadata": {
    "id": "5fed2eac"
   },
   "source": [
    "### Step 4: Collect and prepare data"
   ]
  },
  {
   "cell_type": "code",
   "execution_count": 266,
   "id": "f5a59495",
   "metadata": {
    "id": "f5a59495"
   },
   "outputs": [
    {
     "name": "stdout",
     "output_type": "stream",
     "text": [
      "The sample standard deviation of the time spent on the new page is: 1.82\n",
      "The sample standard deviation of the time spent on the old page is: 2.58\n"
     ]
    }
   ],
   "source": [
    "time_spent_new = data[data['landing_page'] == 'new']['time_spent_on_the_page']\n",
    "time_spent_old = data[data['landing_page'] == 'old']['time_spent_on_the_page']\n",
    "print('The sample standard deviation of the time spent on the new page is:', round(time_spent_new.std(),2))\n",
    "print('The sample standard deviation of the time spent on the old page is:', round(time_spent_old.std(),2))"
   ]
  },
  {
   "cell_type": "markdown",
   "id": "1755db54",
   "metadata": {},
   "source": [
    "### Let's test whether the T-test assumptions are satisfied or not\n",
    "\n",
    "* Continuous data - Yes, time_spent is measured on a continuous scale.\n",
    "* Normally distributed populations - Yes, we are informed that the populations are assumed to be normal.\n",
    "* Independent populations - As we are taking random samples for two different groups, the two samples are from two independent populations.\n",
    "* Unequal population standard deviations - As the sample standard deviations are different, the population standard deviations may be assumed to be different.\n",
    "* Random sampling from the population - Yes, we are informed that the collected sample a simple random sample.\n",
    "\n",
    "We can use two sample T-test for this problem."
   ]
  },
  {
   "cell_type": "markdown",
   "id": "f5c5258d",
   "metadata": {
    "id": "f5c5258d"
   },
   "source": [
    "### Step 5: Calculate the p-value"
   ]
  },
  {
   "cell_type": "code",
   "execution_count": 267,
   "id": "fac8594a",
   "metadata": {
    "id": "fac8594a"
   },
   "outputs": [
    {
     "name": "stdout",
     "output_type": "stream",
     "text": [
      "The p-value is  0.0001392381225166549\n"
     ]
    }
   ],
   "source": [
    "#import the required functions\n",
    "from scipy.stats import ttest_ind\n",
    "\n",
    "# find the p-value\n",
    "test_stat, p_value = ttest_ind(time_spent_new,time_spent_old,equal_var = False, alternative = 'greater')\n",
    "print('The p-value is ', p_value)"
   ]
  },
  {
   "cell_type": "markdown",
   "id": "359b12f8",
   "metadata": {
    "id": "359b12f8"
   },
   "source": [
    "### Step 6: Compare the p-value with $\\alpha$"
   ]
  },
  {
   "cell_type": "markdown",
   "id": "0cae3fd6",
   "metadata": {
    "id": "7be47289"
   },
   "source": [
    "p-value >  $\\alpha$ : 0.0001392381225166549 < 0.05 "
   ]
  },
  {
   "cell_type": "markdown",
   "id": "d9affc84",
   "metadata": {
    "id": "d9affc84"
   },
   "source": [
    "### Step 7:  Draw inference"
   ]
  },
  {
   "cell_type": "markdown",
   "id": "6b16dd4b",
   "metadata": {
    "id": "6b16dd4b"
   },
   "source": [
    "As the p-value is much lesser than the level of significance, we reject the null hypothesis. Thus, it may be concluded that there is enough statistical evidence to conclude that mean_time_spent on new page is more than mean_time_spend on old page"
   ]
  },
  {
   "cell_type": "markdown",
   "id": "353e9d24",
   "metadata": {
    "id": "353e9d24"
   },
   "source": [
    "## 2. Is the conversion rate (the proportion of users who visit the landing page and get converted) for the new page greater than the conversion rate for the old page?"
   ]
  },
  {
   "cell_type": "markdown",
   "id": "fa5f67b4",
   "metadata": {},
   "source": [
    "#### Perform Visual Analysis"
   ]
  },
  {
   "cell_type": "code",
   "execution_count": 268,
   "id": "05d41506",
   "metadata": {},
   "outputs": [
    {
     "data": {
      "image/png": "[encoded data removed]",
      "text/plain": [
       "<Figure size 432x576 with 1 Axes>"
      ]
     },
     "metadata": {
      "needs_background": "light"
     },
     "output_type": "display_data"
    }
   ],
   "source": [
    "pd.crosstab(data['converted'],data['landing_page'],normalize='index').plot(kind=\"bar\", figsize=(6,8),stacked=True)\n",
    "plt.legend()\n",
    "plt.show()"
   ]
  },
  {
   "cell_type": "markdown",
   "id": "d20c96a1",
   "metadata": {},
   "source": [
    "**Inference:**\n",
    "\n",
    "New page users have a higher conversion rate than old page users"
   ]
  },
  {
   "cell_type": "code",
   "execution_count": 269,
   "id": "b7f52898",
   "metadata": {
    "id": "b7f52898"
   },
   "outputs": [
    {
     "name": "stdout",
     "output_type": "stream",
     "text": [
      "yes    33\n",
      "no     17\n",
      "Name: converted, dtype: int64\n",
      "no     29\n",
      "yes    21\n",
      "Name: converted, dtype: int64\n"
     ]
    }
   ],
   "source": [
    "print(data[data['landing_page'] == 'new']['converted'].value_counts())\n",
    "print(data[data['landing_page'] == 'old']['converted'].value_counts())"
   ]
  },
  {
   "cell_type": "markdown",
   "id": "a94aea47",
   "metadata": {},
   "source": [
    "Check proportion of people conversion rate from new landing page to old landing page. \n",
    "\n",
    "In landing_page new, there are 33 converted out of 50 users and \n",
    "In landing_page old, there are 21 converted out of 50 users. \n",
    "\n",
    "At 5% level of significance, do we have enough statistical evidence to conclude that new landing page users gets converted more"
   ]
  },
  {
   "cell_type": "markdown",
   "id": "c06cc728",
   "metadata": {},
   "source": [
    "### Appropriate test is 2 sample z-test"
   ]
  },
  {
   "cell_type": "markdown",
   "id": "d0b1a56b",
   "metadata": {},
   "source": [
    "### Let's test whether the Z-test assumptions are satisfied or not\n",
    "\n",
    "*   Binomally distributed population - Yes, a user is either converted or not.\n",
    "*   Random sampling from the population - Yes, we are informed that the collected sample is a simple random sample.  \n",
    "*   Can the binomial distribution approximated to normal distribution - Yes. For binary data, CLT works slower than usual. The standard thing is to check whether np and n(1-p) are greater than or equal to 10. Here, n and p refer to the sample size and sample proportion respectively.\n",
    ">$np_1 = 50\\cdot \\frac{33}{50} =33 \\geq 10\\\\\n",
    "n(1-p_1) = 50 \\cdot \\frac{50-33}{50} =17 \\geq 10 \\\\\n",
    "np_2 = 50\\cdot \\frac{21}{50} =21 \\geq 10\\\\\n",
    "n(1-p_2) = 50 \\cdot \\frac{50-21}{50} =29 \\geq 10 $"
   ]
  },
  {
   "cell_type": "markdown",
   "id": "cf9f758c",
   "metadata": {},
   "source": [
    "Let $\\mu_1, \\mu_2$ be the mean proportion of users converted from the landing page new and old respectively\n",
    "\n",
    "We want to test whether the mean proportion of users converted from the new landing page is greater than mean proportion of users converted from the old landing page\n",
    "\n",
    "We will test the null hypothesis (mean of new landing page <= mean of old landing page)\n",
    "\n",
    ">$H_0:\\mu_1<=\\mu_2$\n",
    "\n",
    "against the alternate hypothesis (mean of new landing page > mean of old landing page)\n",
    "\n",
    ">$H_a:\\mu_1>\\mu_2$"
   ]
  },
  {
   "cell_type": "code",
   "execution_count": 270,
   "id": "a56fe019",
   "metadata": {},
   "outputs": [
    {
     "name": "stdout",
     "output_type": "stream",
     "text": [
      "The p-value is 0.008026308204056278\n"
     ]
    }
   ],
   "source": [
    "# import the required fuction\n",
    "from statsmodels.stats.proportion import proportions_ztest\n",
    "\n",
    "# set the counts of converted users\n",
    "user_count = np.array([33, 21])\n",
    "\n",
    "# set the sample sizes\n",
    "nobs = np.array([50, 50])\n",
    "\n",
    "# find the p-value\n",
    "test_stat, p_value = proportions_ztest(user_count, nobs,alternative = 'larger')\n",
    "print('The p-value is ' + str(p_value))"
   ]
  },
  {
   "cell_type": "markdown",
   "id": "4bacbcac",
   "metadata": {},
   "source": [
    "As the p-value is less than the significance level 0.05, we have enough statistical evidence to reject the null hypothesis. Thus, the user conversion rate of user landing on new page is greater than users landing on old page"
   ]
  },
  {
   "cell_type": "markdown",
   "id": "d49bfa2d",
   "metadata": {
    "id": "d49bfa2d"
   },
   "source": [
    "## 3. Is the conversion and preferred language are independent or related?"
   ]
  },
  {
   "cell_type": "code",
   "execution_count": 271,
   "id": "b0e63f17",
   "metadata": {
    "id": "b0e63f17"
   },
   "outputs": [
    {
     "data": {
      "image/png": "[encoded data removed]",
      "text/plain": [
       "<Figure size 432x576 with 1 Axes>"
      ]
     },
     "metadata": {
      "needs_background": "light"
     },
     "output_type": "display_data"
    }
   ],
   "source": [
    "pd.crosstab(data['converted'],data['language_preferred'],normalize='index').plot(kind=\"bar\", figsize=(6,8), stacked=True)\n",
    "plt.legend()\n",
    "plt.show()"
   ]
  },
  {
   "cell_type": "markdown",
   "id": "a34c15f4",
   "metadata": {},
   "source": [
    "1. Spanish: converted and non converted rate is same\n",
    "2. French: Converted is less than non converted\n",
    "3. English: Converted is more than non converted"
   ]
  },
  {
   "cell_type": "markdown",
   "id": "5c55696d",
   "metadata": {},
   "source": [
    "Let's write the null and alternative hypothesis\n",
    "\n",
    "We will test the null hypothesis\n",
    "\n",
    "𝐻0\n",
    ":\n",
    "  Conversion and language are independent.\n",
    "\n",
    "against the alternate hypothesis\n",
    "\n",
    "𝐻𝑎\n",
    ":\n",
    "  Conversion and language are not independent."
   ]
  },
  {
   "cell_type": "markdown",
   "id": "9ad1cdf8",
   "metadata": {},
   "source": [
    "### The test to be used is Chi-Square Test of Independence\n",
    "### Let's test whether the assumptions are satisfied or not\n",
    "\n",
    "* Categorical variables - Yes\n",
    "* Expected value of the number of sample observations in each level of the variable is at least 5 - Yes, the number of observations in each level is greater than 5.\n",
    "* Random sampling from the population - Yes, we are informed that the collected sample is a simple random sample."
   ]
  },
  {
   "cell_type": "code",
   "execution_count": 272,
   "id": "bd9882d7",
   "metadata": {},
   "outputs": [
    {
     "name": "stdout",
     "output_type": "stream",
     "text": [
      "language_preferred  English  French  Spanish\n",
      "converted                                   \n",
      "no                       11      19       16\n",
      "yes                      21      15       18\n",
      "The p-value is 0.21298887487543447\n"
     ]
    }
   ],
   "source": [
    "# import the required function\n",
    "from scipy.stats import chi2_contingency\n",
    "\n",
    "data_crosstab = pd.crosstab(data['converted'],\n",
    "                            data['language_preferred'], \n",
    "                               margins = False)\n",
    "print(data_crosstab)\n",
    "# find the p-value\n",
    "chi, p_value, dof, expected = chi2_contingency(data_crosstab)\n",
    "print('The p-value is', p_value)"
   ]
  },
  {
   "cell_type": "markdown",
   "id": "ee760043",
   "metadata": {},
   "source": [
    "p-value is higher than alpha value. Hence we fail to reject the null hypothesis, meaning conversion is independent of preferred language."
   ]
  },
  {
   "cell_type": "markdown",
   "id": "8d585a90",
   "metadata": {
    "id": "8d585a90"
   },
   "source": [
    "## 4. Is the time spent on the new page same for the different language users?"
   ]
  },
  {
   "cell_type": "markdown",
   "id": "855c4aa8",
   "metadata": {
    "id": "b422f395"
   },
   "source": [
    "### This analysis can be done using One-way ANOVA Test\n"
   ]
  },
  {
   "cell_type": "markdown",
   "id": "5437472a",
   "metadata": {},
   "source": [
    "### Let's write the null and alternative hypothesis\n",
    "\n",
    "Let $\\mu_1, \\mu_2, \\mu_3$ be the means time spent by users for languages English,French and Spanish respectively.\n",
    "\n",
    "We will test the null hypothesis\n",
    "\n",
    ">$H_0: \\mu_1 = \\mu_2 = \\mu_3$\n",
    "\n",
    "against the alternative hypothesis\n",
    "\n",
    ">$H_a: $ At least one language has different mean time compared to others."
   ]
  },
  {
   "cell_type": "code",
   "execution_count": 273,
   "id": "0bfbfc51",
   "metadata": {},
   "outputs": [
    {
     "name": "stdout",
     "output_type": "stream",
     "text": [
      "  language_preferred  mean_time_spent\n",
      "0            English         6.663750\n",
      "1             French         6.196471\n",
      "2            Spanish         5.835294\n"
     ]
    },
    {
     "data": {
      "image/png": "[encoded data removed]",
      "text/plain": [
       "<Figure size 432x432 with 1 Axes>"
      ]
     },
     "metadata": {
      "needs_background": "light"
     },
     "output_type": "display_data"
    }
   ],
   "source": [
    "# mean_time_spent for each language\n",
    "data_new = data.loc[data['landing_page']=='new']\n",
    "\n",
    "# get the mean_time_spent for each language\n",
    "print(data_new.groupby(['language_preferred']).agg(mean_time_spent=('time_spent_on_the_page','mean')).reset_index())\n",
    "\n",
    "\n",
    "# draw the boxplot for visualization \n",
    "fig, ax = plt.subplots(figsize = (6,6))\n",
    "a = sns.boxplot(x= \"language_preferred\", y = 'time_spent_on_the_page' , data = data_new, hue = 'language_preferred')\n",
    "a.set_title(\"mean_time_spent for each language\", fontsize=15)\n",
    "plt.show()"
   ]
  },
  {
   "cell_type": "markdown",
   "id": "27383a7e",
   "metadata": {},
   "source": [
    "Inference:\n",
    "\n",
    "mean_time_spent for each language is nearly between 6 to 7"
   ]
  },
  {
   "cell_type": "markdown",
   "id": "d285d15b",
   "metadata": {},
   "source": [
    "Now, the normality and equality of variance assumptions need to be checked. \n",
    "\n",
    "* For testing of normality, Shapiro-Wilk’s test is applied to the response variable.\n",
    "\n",
    "* For equality of variance, Levene test is applied to the response variable."
   ]
  },
  {
   "cell_type": "markdown",
   "id": "c7db0f17",
   "metadata": {},
   "source": [
    "### Shapiro-Wilk’s test\n",
    "\n",
    "We will test the null hypothesis\n",
    "\n",
    ">$H_0:$ mean_time_spent follows a normal distribution against\n",
    "\n",
    "against the alternative hypothesis\n",
    "\n",
    ">$H_a:$ mean_time_spent does not follow a normal distribution"
   ]
  },
  {
   "cell_type": "code",
   "execution_count": 274,
   "id": "4c825d8d",
   "metadata": {},
   "outputs": [
    {
     "name": "stdout",
     "output_type": "stream",
     "text": [
      "The p-value is 0.8040016293525696\n"
     ]
    }
   ],
   "source": [
    "# Assumption 1: Normality\n",
    "# import the required function\n",
    "from scipy import stats\n",
    "\n",
    "# find the p-value\n",
    "w, p_value = stats.shapiro(data_new['time_spent_on_the_page']) \n",
    "print('The p-value is', p_value)"
   ]
  },
  {
   "cell_type": "markdown",
   "id": "128cff63",
   "metadata": {},
   "source": [
    "Since p-value of the test is very large, we fail to reject the null hypothesis that the response follows the normal distribution."
   ]
  },
  {
   "cell_type": "markdown",
   "id": "ce7df788",
   "metadata": {},
   "source": [
    "### Levene’s test\n",
    "\n",
    "We will test the null hypothesis\n",
    "\n",
    ">$H_0$: All the population variances are equal\n",
    "\n",
    "against the alternative hypothesis\n",
    "\n",
    ">$H_a$: At least one variance is different from the rest"
   ]
  },
  {
   "cell_type": "code",
   "execution_count": 275,
   "id": "aeb85f55",
   "metadata": {},
   "outputs": [
    {
     "name": "stdout",
     "output_type": "stream",
     "text": [
      "The p-value is 0.46711357711340173\n"
     ]
    }
   ],
   "source": [
    "#Assumption 2: Homogeneity of Variance\n",
    "#import the required function\n",
    "from scipy.stats import levene\n",
    "statistic, p_value = levene( data_new['time_spent_on_the_page'][data_new['language_preferred']==\"English\"], \n",
    "                                   data_new['time_spent_on_the_page'][data_new['language_preferred']==\"Spanish\"], \n",
    "                                   data_new['time_spent_on_the_page'][data_new['language_preferred']==\"French\"])\n",
    "# find the p-value\n",
    "print('The p-value is', p_value)"
   ]
  },
  {
   "cell_type": "markdown",
   "id": "1f542ef4",
   "metadata": {},
   "source": [
    "Since the p-value is large, we fail to reject the null hypothesis of homogeneity of variances."
   ]
  },
  {
   "cell_type": "markdown",
   "id": "85a14c08",
   "metadata": {},
   "source": [
    "* The populations are normally distributed - Yes, the normality assumption is verified using the Shapiro-Wilk’s test.\n",
    "* Samples are independent simple random samples - Yes, we are informed that the collected sample is a simple random sample.\n",
    "* Population variances are equal - Yes, the homogeneity of variance assumption is verified using the Levene's test."
   ]
  },
  {
   "cell_type": "code",
   "execution_count": 276,
   "id": "38bc96cd",
   "metadata": {
    "scrolled": true
   },
   "outputs": [
    {
     "name": "stdout",
     "output_type": "stream",
     "text": [
      "The p-value is 0.43204138694325955\n"
     ]
    }
   ],
   "source": [
    "#import the required function\n",
    "from scipy.stats import f_oneway\n",
    "\n",
    "# perform one-way anova test\n",
    "test_stat, p_value = f_oneway(data_new.loc[data_new['language_preferred'] == 'English', 'time_spent_on_the_page'],\n",
    "                              data_new.loc[data_new['language_preferred'] == 'Spanish', 'time_spent_on_the_page'],\n",
    "                              data_new.loc[data_new['language_preferred'] == 'French', 'time_spent_on_the_page'])\n",
    "print('The p-value is ' + str(p_value))\n"
   ]
  },
  {
   "cell_type": "markdown",
   "id": "63874c8e",
   "metadata": {},
   "source": [
    "### Insight\n",
    "As the p-value is greater than the significance level, we fail to reject the null hypothesis. Hence, have enough statistical significance to conclude that all statistical mean of time spent by different language customer is same."
   ]
  },
  {
   "cell_type": "markdown",
   "id": "3acbc947",
   "metadata": {
    "id": "3acbc947"
   },
   "source": [
    "## Conclusion and Business Recommendations\n",
    "\n",
    "#### Over all Data Analysis:\n",
    "1. The time spent on the page has a normal distribution\n",
    "2. There are no outliers in time_spent_on_the_page\n",
    "3. People who have converted to subscription is more than who have not\n",
    "4. Spanish, English and French has almost equal amount of users\n",
    "5. English preferred users are little less compared to other two\n",
    "6. People who have converted spend more time on the page.\n",
    "7. Mean time spent on the page is almost same for all three languages\n",
    "8. All statistical mean of time spent by different language customer is same\n",
    "\n",
    "#### New landing page analysis vs Old landing page analysis:\n",
    "1. The time spent by the new page users are more than time spend by old page users\n",
    "2. There is a significant increase in mean_time_spent for english users in new page than old page.\n",
    "3. Conversion rate of Spanish users is significantly more in new page. \n",
    "4. There is an increase in time_spent_on_the_page from old landing page to new landing page\n",
    "5. The user conversion rate of user landing on new page is greater than users landing on old page\n",
    "\n",
    "#### Business Recomendations:\n",
    "1. The audio, graphics, video, and other interactive elements seems to have better response over traditional newspapers\n",
    "2. Overall new page has a better response from the user from all aspects \n",
    "3. To have a better understanding of individual feature, We can have seperated samples for audio, graphics, video and other interactive elements. Based on which we can derive better insights and work on individual feature for improvements."
   ]
  },
  {
   "cell_type": "markdown",
   "id": "21fb1063",
   "metadata": {
    "id": "21fb1063"
   },
   "source": []
  },
  {
   "cell_type": "markdown",
   "id": "U0dAd4i0iCHo",
   "metadata": {
    "id": "U0dAd4i0iCHo"
   },
   "source": [
    "___"
   ]
  }
 ],
 "metadata": {
  "colab": {
   "collapsed_sections": [
    "a6a3d218",
    "6970dd99",
    "9d75cfa2",
    "68f3b2c9",
    "fad2de2f",
    "27906576",
    "e5fdf0c8",
    "56b3dafd",
    "c7ee4907",
    "3f58c9a7",
    "5fed2eac",
    "f5c5258d",
    "359b12f8",
    "d9affc84",
    "353e9d24",
    "d49bfa2d",
    "8d585a90",
    "3acbc947"
   ],
   "name": "ENews_Express_Learner_Notebook_Full_Code_Version_solution.ipynb",
   "provenance": []
  },
  "kernelspec": {
   "display_name": "Python 3 (ipykernel)",
   "language": "python",
   "name": "python3"
  },
  "language_info": {
   "codemirror_mode": {
    "name": "ipython",
    "version": 3
   },
   "file_extension": ".py",
   "mimetype": "text/x-python",
   "name": "python",
   "nbconvert_exporter": "python",
   "pygments_lexer": "ipython3",
   "version": "3.9.7"
  }
 },
 "nbformat": 4,
 "nbformat_minor": 5
}
